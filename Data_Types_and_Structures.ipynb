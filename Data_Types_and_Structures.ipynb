{
  "nbformat": 4,
  "nbformat_minor": 0,
  "metadata": {
    "colab": {
      "provenance": []
    },
    "kernelspec": {
      "name": "python3",
      "display_name": "Python 3"
    },
    "language_info": {
      "name": "python"
    }
  },
  "cells": [
    {
      "cell_type": "markdown",
      "source": [
        "# Data Types and Structures\n",
        "\n",
        "1. What are data structures, and why are they important?\n",
        "-- A data structure is a way of organizing and storing data so it can be accessed and modified efficiently.\n",
        "\n",
        "-- why they are important.\n",
        "\n",
        "\n",
        "*   Improve Efficiency\n",
        "*   Optimize Memory Usage\n",
        "*   Enhance Scalability\n",
        "*   Enable Better Problem Solving\n",
        "\n",
        "---\n",
        "2. Explain the difference between mutable and immutable data types with examples.\n",
        "-- Mutable Data Types :-  Mutable objects allow in-place modifications, meaning their content can be changed without changing their memory address.\n",
        "\n",
        "-- Examples of Mutable Data Types:-\n"
      ],
      "metadata": {
        "id": "Vsd_WJm6hFEi"
      }
    },
    {
      "cell_type": "code",
      "source": [
        "my_list = [1, 2, 3]\n",
        "my_list[0] = 100  # Modifying the first element\n",
        "print(my_list)  # Output: [100, 2, 3]\n"
      ],
      "metadata": {
        "colab": {
          "base_uri": "https://localhost:8080/"
        },
        "id": "Pp_c17fIkBc_",
        "outputId": "40eb16be-38fd-4f09-8af2-1f67bec96c00"
      },
      "execution_count": null,
      "outputs": [
        {
          "output_type": "stream",
          "name": "stdout",
          "text": [
            "[100, 2, 3]\n"
          ]
        }
      ]
    },
    {
      "cell_type": "markdown",
      "source": [
        "-- Immutable Data Types:- Immutable objects do not allow modifications. If you try to modify them, a new object is created instead.\n",
        "\n",
        "-- Examples of Immutable Data Types:-\n"
      ],
      "metadata": {
        "id": "THkLwIqakKzq"
      }
    },
    {
      "cell_type": "code",
      "source": [
        "my_string = \"hello\"\n",
        "my_string[0] = \"H\"  #  This will raise an error\n"
      ],
      "metadata": {
        "colab": {
          "base_uri": "https://localhost:8080/",
          "height": 158
        },
        "collapsed": true,
        "id": "rOp6oRdFkZtI",
        "outputId": "8c7f0ae6-6305-4bec-93cd-25194fc77eab"
      },
      "execution_count": null,
      "outputs": [
        {
          "output_type": "error",
          "ename": "TypeError",
          "evalue": "'str' object does not support item assignment",
          "traceback": [
            "\u001b[0;31m---------------------------------------------------------------------------\u001b[0m",
            "\u001b[0;31mTypeError\u001b[0m                                 Traceback (most recent call last)",
            "\u001b[0;32m<ipython-input-3-f23ae86f74d5>\u001b[0m in \u001b[0;36m<cell line: 0>\u001b[0;34m()\u001b[0m\n\u001b[1;32m      1\u001b[0m \u001b[0mmy_string\u001b[0m \u001b[0;34m=\u001b[0m \u001b[0;34m\"hello\"\u001b[0m\u001b[0;34m\u001b[0m\u001b[0;34m\u001b[0m\u001b[0m\n\u001b[0;32m----> 2\u001b[0;31m \u001b[0mmy_string\u001b[0m\u001b[0;34m[\u001b[0m\u001b[0;36m0\u001b[0m\u001b[0;34m]\u001b[0m \u001b[0;34m=\u001b[0m \u001b[0;34m\"H\"\u001b[0m  \u001b[0;31m#  This will raise an error\u001b[0m\u001b[0;34m\u001b[0m\u001b[0;34m\u001b[0m\u001b[0m\n\u001b[0m",
            "\u001b[0;31mTypeError\u001b[0m: 'str' object does not support item assignment"
          ]
        }
      ]
    },
    {
      "cell_type": "markdown",
      "source": [
        "3. What are the main differences between lists and tuples in Python?\n",
        "-- List: A mutable, ordered collection of elements that allows modifications such as adding, removing, or changing items. It is defined using square brackets [ ].\n",
        "\n",
        "-- Mutable example are :-"
      ],
      "metadata": {
        "id": "ihPNRafqkji9"
      }
    },
    {
      "cell_type": "code",
      "source": [
        "my_list = [1, 2, 3]\n",
        "my_list.append(4)  # Adding an element\n",
        "my_list[0] = 100   # Modifying an element\n",
        "print(my_list)  # Output: [100, 2, 3, 4]\n"
      ],
      "metadata": {
        "colab": {
          "base_uri": "https://localhost:8080/"
        },
        "id": "kK3RclsFnE-2",
        "outputId": "d0e01bcf-fc1a-4552-b292-97d1b2edecc0"
      },
      "execution_count": null,
      "outputs": [
        {
          "output_type": "stream",
          "name": "stdout",
          "text": [
            "[100, 2, 3, 4]\n"
          ]
        }
      ]
    },
    {
      "cell_type": "markdown",
      "source": [
        "-- Tuple: An immutable, ordered collection of elements that cannot be modified after creation. It is defined using parentheses ( ).\n",
        "\n",
        "-- Immutable example are:-\n"
      ],
      "metadata": {
        "id": "zLIBpK46nJep"
      }
    },
    {
      "cell_type": "code",
      "source": [
        "my_tuple = (1, 2, 3)\n",
        "my_tuple[0] = 100  #  This will raise an error\n"
      ],
      "metadata": {
        "collapsed": true,
        "colab": {
          "base_uri": "https://localhost:8080/",
          "height": 158
        },
        "id": "6g6wALf5njlb",
        "outputId": "87edc9fe-957d-4551-f76d-7ad251fb0a62"
      },
      "execution_count": null,
      "outputs": [
        {
          "output_type": "error",
          "ename": "TypeError",
          "evalue": "'tuple' object does not support item assignment",
          "traceback": [
            "\u001b[0;31m---------------------------------------------------------------------------\u001b[0m",
            "\u001b[0;31mTypeError\u001b[0m                                 Traceback (most recent call last)",
            "\u001b[0;32m<ipython-input-5-262d8a3da6b0>\u001b[0m in \u001b[0;36m<cell line: 0>\u001b[0;34m()\u001b[0m\n\u001b[1;32m      1\u001b[0m \u001b[0mmy_tuple\u001b[0m \u001b[0;34m=\u001b[0m \u001b[0;34m(\u001b[0m\u001b[0;36m1\u001b[0m\u001b[0;34m,\u001b[0m \u001b[0;36m2\u001b[0m\u001b[0;34m,\u001b[0m \u001b[0;36m3\u001b[0m\u001b[0;34m)\u001b[0m\u001b[0;34m\u001b[0m\u001b[0;34m\u001b[0m\u001b[0m\n\u001b[0;32m----> 2\u001b[0;31m \u001b[0mmy_tuple\u001b[0m\u001b[0;34m[\u001b[0m\u001b[0;36m0\u001b[0m\u001b[0;34m]\u001b[0m \u001b[0;34m=\u001b[0m \u001b[0;36m100\u001b[0m  \u001b[0;31m#  This will raise an error\u001b[0m\u001b[0;34m\u001b[0m\u001b[0;34m\u001b[0m\u001b[0m\n\u001b[0m",
            "\u001b[0;31mTypeError\u001b[0m: 'tuple' object does not support item assignment"
          ]
        }
      ]
    },
    {
      "cell_type": "markdown",
      "source": [
        "4. Describe how dictionaries store data.\n",
        "-- A dictionary (dict) in Python is a collection that stores data as key-value pairs. It is optimized for fast lookups and is implemented using hash tables internally.\n",
        "\n",
        "--How Data is Stored in Dictionaries :- Key-Value Pairs – Each element consists of a key (unique) and a value (which can be of any data type).\n",
        "\n"
      ],
      "metadata": {
        "id": "zTgOuGRCnqfa"
      }
    },
    {
      "cell_type": "code",
      "source": [
        "my_dict = {\"name\": \"Alice\", \"age\": 25, \"city\": \"New York\"}\n",
        "my_dict[\"name\"]  # Accessing a value using its key"
      ],
      "metadata": {
        "colab": {
          "base_uri": "https://localhost:8080/",
          "height": 35
        },
        "id": "KKxgKIOvoIoF",
        "outputId": "76b34c11-1c93-4cb4-d1fd-d6fde3e0624a"
      },
      "execution_count": null,
      "outputs": [
        {
          "output_type": "execute_result",
          "data": {
            "text/plain": [
              "'Alice'"
            ],
            "application/vnd.google.colaboratory.intrinsic+json": {
              "type": "string"
            }
          },
          "metadata": {},
          "execution_count": 6
        }
      ]
    },
    {
      "cell_type": "markdown",
      "source": [
        "5. Why might you use a set instead of a list in Python?\n",
        "-- A set in Python is an unordered collection of unique elements, optimized for fast membership testing and removing duplicates.\n",
        "\n",
        "Here’s why you might use a set instead of a list:\n",
        "\n",
        "---\n",
        "6. What is a string in Python, and how is it different from a list?\n",
        "--String in Python :-  A string is an immutable sequence of characters used to store and manipulate textual data. It is defined using quotes (', \", ''', or \"\"\").\n",
        "\n",
        "-- List in Python :- A list is a mutable, ordered collection of elements that can store multiple data types and be modified dynamically. It is defined using square brackets [].\n",
        "\n",
        "---\n",
        "7. How do tuples ensure data integrity in Python?\n",
        "-- A tuple in Python is an immutable, ordered collection of elements that ensures data integrity by preventing modifications after creation. This immutability helps maintain consistency, prevents accidental changes, and allows tuples to be used as hashable keys in dictionaries, making them useful for storing fixed, unchangeable data\n",
        "\n",
        "---\n",
        "8. What is a hash table, and how does it relate to dictionaries in Python?\n",
        "--A hash table is a data structure that stores key-value pairs using a hash function to map keys to unique indices for fast access.\n",
        "\n",
        "\n",
        "--In Python, dictionaries (dict) are built using hash tables, allowing quick lookups, insertions, and deletions with an average time complexity of O(1).\n",
        "\n",
        "---\n",
        "9. Can lists contain different data types in Python?\n",
        "\n",
        "--Yes! Lists in Python can contain different data types because they are heterogeneous. You can store integers, floats, strings, booleans, other lists, dictionaries, or even functions in the same list.\n",
        "\n",
        "\n",
        "---\n",
        "10.  Explain why strings are immutable in Python.\n",
        "--In Python, strings are immutable, meaning their contents cannot be changed after creation. This is because strings are stored as fixed sequences of Unicode characters in memory.\n",
        "\n",
        "---\n",
        "11.What advantages do dictionaries offer over lists for certain tasks?\n",
        "-- Dictionaries (dict) offer several advantages over lists (list) for certain tasks because they provide fast lookups, efficient storage, and meaningful key-value associations. Here’s why dictionaries can be better than lists in specific cases:\n",
        "\n"
      ],
      "metadata": {
        "id": "7dGReDBDoPej"
      }
    },
    {
      "cell_type": "code",
      "source": [
        "my_dict = {\"apple\": 10, \"banana\": 20}\n",
        "print(my_dict[\"apple\"])  # O(1) lookup\n",
        "\n",
        "my_list = [(\"apple\", 10), (\"banana\", 20)]\n",
        "for item in my_list:\n",
        "    if item[0] == \"apple\":\n",
        "        print(item[1])  # O(n) lookup\n"
      ],
      "metadata": {
        "id": "t4nRP1ITQg6j"
      },
      "execution_count": null,
      "outputs": []
    },
    {
      "cell_type": "markdown",
      "source": [
        "12.  Describe a scenario where using a tuple would be preferable over a list?\n",
        "--Imagine you are building a GPS system that needs to store latitude and longitude for multiple locations. Since the coordinates for a specific place do not change, using a tuple instead of a list is preferable.\n",
        "\n",
        "--Why Use a Tuple?\n",
        "\n",
        "\n",
        "*   Immutability – Coordinates should remain constant to prevent accidental modification.\n",
        "*   Memory Efficiency – Tuples consume less memory than lists, making them faster and more efficient.\n",
        "*   Hashability – Tuples can be used as dictionary keys for fast lookups.\n",
        "\n",
        "---\n",
        "13. How do sets handle duplicate values in Python?\n",
        "-- In Python, sets automatically remove duplicate values because they are unordered collections of unique elements. When you add duplicate values to a set, Python keeps only one instance of each unique value.\n",
        "\n",
        "\n"
      ],
      "metadata": {
        "id": "KdpKMkwTQh3B"
      }
    },
    {
      "cell_type": "code",
      "source": [
        "my_set = {1, 2, 2, 3, 4, 4, 5}\n",
        "print(my_set)  # Output: {1, 2, 3, 4, 5}\n"
      ],
      "metadata": {
        "id": "btGL03kkRRtB"
      },
      "execution_count": null,
      "outputs": []
    },
    {
      "cell_type": "markdown",
      "source": [
        "14. How does the “in” keyword work differently for lists and dictionaries\n",
        "--in with Lists (O(n) – Linear Search)\n",
        "* Checks if a value exists in the list by scanning each element one by one.\n",
        "* Time Complexity: O(n) (slower for large lists)."
      ],
      "metadata": {
        "id": "XxzFkOUMRWLo"
      }
    },
    {
      "cell_type": "code",
      "source": [
        "my_list = [10, 20, 30, 40]\n",
        "\n",
        "print(20 in my_list)  # True (Checks each element)\n",
        "print(50 in my_list)  # False\n"
      ],
      "metadata": {
        "id": "CyLto9CjR3XL"
      },
      "execution_count": null,
      "outputs": []
    },
    {
      "cell_type": "markdown",
      "source": [
        "-- in with Dictionaries (O(1) – Hash Table Lookup)\n",
        "* Checks if a key exists (not values).\n",
        "* Uses hash tables, making lookups very fast.\n",
        "* Time Complexity: O(1) (on average, much faster than lists).\n",
        "\n",
        "---\n",
        "\n",
        "15.  Can you modify the elements of a tuple? Explain why or why not?\n",
        "--No, you cannot modify the elements of a tuple in Python because tuples are immutable.\n",
        "\n",
        "--Why Are Tuples Immutable?\n",
        "* Memory Efficiency – Python optimizes tuples for speed and memory usage.\n",
        "* Data Integrity – Prevents accidental changes, making them safer for fixed data.\n",
        "* Hashability – Tuples can be used as dictionary keys (if they contain only immutable elements)\n",
        "\n",
        "---\n",
        "16. What is a nested dictionary, and give an example of its use case?\n",
        "-- A nested dictionary is a dictionary that contains one or more dictionaries as values. It allows you to store structured, hierarchical data efficiently."
      ],
      "metadata": {
        "id": "vHX4asbZR4RI"
      }
    },
    {
      "cell_type": "code",
      "source": [
        "students = {\n",
        "    \"Alice\": {\"age\": 25, \"grades\": {\"math\": 90, \"science\": 85}},\n",
        "    \"Bob\": {\"age\": 22, \"grades\": {\"math\": 78, \"science\": 88}},\n",
        "}\n",
        "\n",
        "# Accessing Bob's math grade\n",
        "print(students[\"Bob\"][\"grades\"][\"math\"])  # Output: 78\n"
      ],
      "metadata": {
        "id": "HMvmyOAeS0pl"
      },
      "execution_count": null,
      "outputs": []
    },
    {
      "cell_type": "markdown",
      "source": [
        "17.  Describe the time complexity of accessing elements in a dictionary?\n",
        "\n",
        "--Accessing elements in a dictionary is O(1) (constant time) on average because Python uses hash tables for fast lookups. In rare cases, due to hash collisions, it can take O(n) (linear time), but Python optimizes to keep it fast.\n",
        "\n",
        "---\n",
        "18.  In what situations are lists preferred over dictionaries?\n",
        "--When order matters\n",
        "\n",
        "\n"
      ],
      "metadata": {
        "id": "02Rf1nKYS1mG"
      }
    },
    {
      "cell_type": "code",
      "source": [
        "fruits = [\"apple\", \"banana\", \"cherry\"]\n",
        "print(fruits[0])  # Output: apple\n"
      ],
      "metadata": {
        "id": "vpenGzuZVBSN"
      },
      "execution_count": null,
      "outputs": []
    },
    {
      "cell_type": "markdown",
      "source": [
        "--When you need indexing\n",
        "\n",
        "\n"
      ],
      "metadata": {
        "id": "OJ-RvTKeVE1f"
      }
    },
    {
      "cell_type": "code",
      "source": [
        "numbers = [10, 20, 30]\n",
        "print(numbers[1])  # Output: 20\n"
      ],
      "metadata": {
        "id": "E6QVNbkmVI93"
      },
      "execution_count": null,
      "outputs": []
    },
    {
      "cell_type": "markdown",
      "source": [
        "19. Why are dictionaries considered unordered, and how does that affect data retrieval?\n",
        "-- Before Python 3.7, dictionaries were unordered because they used hash tables, which did not store elements in a fixed order.\n",
        "\n",
        "Since Python 3.7+, dictionaries maintain insertion order, meaning items appear in the order they were added.\n",
        "\n",
        "However, dictionaries do not support indexing like lists, so you must access values using keys, not positions.\n",
        "\n",
        "---\n",
        "\n",
        "20.Explain the difference between a list and a dictionary in terms of data retrieval.\n",
        "* Lists retrieve data using index numbers (position-based).\n",
        "* Dictionaries retrieve data using keys (name-based).\n",
        "* Lists are slower when searching for a value (O(n)).\n",
        "* Dictionaries are faster because they use **keys for quick lookups (O(1))."
      ],
      "metadata": {
        "id": "fltIQwSCZvZ5"
      }
    },
    {
      "cell_type": "markdown",
      "source": [
        "# Practical Questions\n",
        "\n",
        "1. Write a code to create a string with your name and print it>\n"
      ],
      "metadata": {
        "id": "_PL2zQSXaqS-"
      }
    },
    {
      "cell_type": "code",
      "source": [
        "# first we get name input\n",
        "name = input(\"Enter your name : \")\n",
        "\n",
        "# then we print the name\n",
        "print(name)"
      ],
      "metadata": {
        "colab": {
          "base_uri": "https://localhost:8080/"
        },
        "id": "mzvmyJsUa1iU",
        "outputId": "590a9909-305f-416b-f153-3ecda9130057"
      },
      "execution_count": null,
      "outputs": [
        {
          "output_type": "stream",
          "name": "stdout",
          "text": [
            "Enter your name : Aviral sharma\n",
            "Aviral sharma\n"
          ]
        }
      ]
    },
    {
      "cell_type": "markdown",
      "source": [
        "2.  Write a code to find the length of the string \"Hello World\"?\n"
      ],
      "metadata": {
        "id": "lK-LgOMgbcGR"
      }
    },
    {
      "cell_type": "code",
      "source": [
        "# write any str\n",
        "str_1 = \"Hello World\"\n",
        "\n",
        "# then we fing the lenth of str_1 with use (len) funtion\n",
        "print(len(str_1))"
      ],
      "metadata": {
        "colab": {
          "base_uri": "https://localhost:8080/"
        },
        "id": "PI7leA7obd3K",
        "outputId": "6081bd7e-dea5-4035-9ac2-176bc24bc5f5"
      },
      "execution_count": null,
      "outputs": [
        {
          "output_type": "stream",
          "name": "stdout",
          "text": [
            "11\n"
          ]
        }
      ]
    },
    {
      "cell_type": "markdown",
      "source": [
        "3. Write a code to slice the first 3 characters from the string \"Python Programming\""
      ],
      "metadata": {
        "id": "7RAEvspLb9pr"
      }
    },
    {
      "cell_type": "code",
      "source": [
        "# define the string\n",
        "text =  \"Python Programming\"\n",
        "\n",
        "# slice first three characters\n",
        "first_three = text[:3]\n",
        "\n",
        "# print\n",
        "print(first_three)\n"
      ],
      "metadata": {
        "colab": {
          "base_uri": "https://localhost:8080/"
        },
        "id": "jL8UTearcBP6",
        "outputId": "47790654-2f42-4ebc-b1a8-2c5c065db299"
      },
      "execution_count": null,
      "outputs": [
        {
          "output_type": "stream",
          "name": "stdout",
          "text": [
            "Pyt\n"
          ]
        }
      ]
    },
    {
      "cell_type": "markdown",
      "source": [
        "4.  Write a code to convert the string \"hello\" to uppercase?\n"
      ],
      "metadata": {
        "id": "YEPQm-fTc1u5"
      }
    },
    {
      "cell_type": "code",
      "source": [
        "# write the text\n",
        "text = \"hello\"\n",
        "\n",
        "# convert to uppercase\n",
        "uppercase_text = text.upper()\n",
        "\n",
        "# print\n",
        "print(uppercase_text)"
      ],
      "metadata": {
        "id": "RKUTpKxcc6JJ",
        "colab": {
          "base_uri": "https://localhost:8080/"
        },
        "outputId": "1121ab0c-1168-4ed9-c52b-212e5508d588"
      },
      "execution_count": null,
      "outputs": [
        {
          "output_type": "stream",
          "name": "stdout",
          "text": [
            "HELLO\n"
          ]
        }
      ]
    },
    {
      "cell_type": "markdown",
      "source": [
        "5.  Write a code to replace the word \"apple\" with \"orange\" in the string \"I like apple\""
      ],
      "metadata": {
        "id": "ZYsxzS2o0Oiw"
      }
    },
    {
      "cell_type": "code",
      "source": [
        "# write the text\n",
        "text = \"I like apple\"\n",
        "\n",
        "# replce to text\n",
        "new_text = text.replace(\"apple\", \"orange\")\n",
        "\n",
        "# print\n",
        "print(new_text)"
      ],
      "metadata": {
        "colab": {
          "base_uri": "https://localhost:8080/"
        },
        "id": "1RGIJ0nf0RDN",
        "outputId": "1d4fb366-e683-4f5b-e781-1a31784b4399"
      },
      "execution_count": null,
      "outputs": [
        {
          "output_type": "stream",
          "name": "stdout",
          "text": [
            "I like orange\n"
          ]
        }
      ]
    },
    {
      "cell_type": "markdown",
      "source": [
        "6. Write a code to create a list with numbers 1 to 5 and print it?\n"
      ],
      "metadata": {
        "id": "Yp2txmBK1Gfp"
      }
    },
    {
      "cell_type": "code",
      "source": [
        "# Here's a simple Python code snippet to create a list with numbers 1 to 5 and print it:\n",
        "\n",
        "numbers = [1, 2, 3, 4, 5]\n",
        "print(numbers)\n"
      ],
      "metadata": {
        "colab": {
          "base_uri": "https://localhost:8080/"
        },
        "id": "0dUZG6GM1WFe",
        "outputId": "68b412dc-bcac-46a8-8b07-b6e705c5bf9e"
      },
      "execution_count": null,
      "outputs": [
        {
          "output_type": "stream",
          "name": "stdout",
          "text": [
            "[1, 2, 3, 4, 5]\n"
          ]
        }
      ]
    },
    {
      "cell_type": "markdown",
      "source": [
        "7. Write a code to append the number 10 to the list [1, 2, 3, 4]?\n"
      ],
      "metadata": {
        "id": "KZXpC1rh2bSd"
      }
    },
    {
      "cell_type": "code",
      "source": [
        "# You can use the append() method to add 10 to the list:\n",
        "\n",
        "numbers = [1, 2, 3, 4]\n",
        "numbers.append(10)\n",
        "print(numbers)\n"
      ],
      "metadata": {
        "colab": {
          "base_uri": "https://localhost:8080/"
        },
        "id": "ZT-0pio52xUr",
        "outputId": "eb464ee2-c220-4230-f1ac-b1ec06ce06bc"
      },
      "execution_count": null,
      "outputs": [
        {
          "output_type": "stream",
          "name": "stdout",
          "text": [
            "[1, 2, 3, 4, 10]\n"
          ]
        }
      ]
    },
    {
      "cell_type": "markdown",
      "source": [
        "8.Write a code to remove the number 3 from the list [1, 2, 3, 4, 5]?"
      ],
      "metadata": {
        "id": "E_oyFMzE24ne"
      }
    },
    {
      "cell_type": "code",
      "source": [
        "# You can use the remove() method to delete the number 3 from the list:\n",
        "\n",
        "numbers = [1, 2, 3, 4, 5]\n",
        "numbers.remove(3)\n",
        "print(numbers)\n"
      ],
      "metadata": {
        "colab": {
          "base_uri": "https://localhost:8080/"
        },
        "id": "92X6duFm3SpP",
        "outputId": "19ca3dc0-a85c-40a7-b68d-946e84ffe884"
      },
      "execution_count": null,
      "outputs": [
        {
          "output_type": "stream",
          "name": "stdout",
          "text": [
            "[1, 2, 4, 5]\n"
          ]
        }
      ]
    },
    {
      "cell_type": "markdown",
      "source": [
        "9. Write a code to access the second element in the list ['a', 'b', 'c', 'd']?\n"
      ],
      "metadata": {
        "id": "mvAAzOri3d04"
      }
    },
    {
      "cell_type": "code",
      "source": [
        "# You can access the second element of the list using indexing:\n",
        "\n",
        "letters = ['a', 'b', 'c', 'd']\n",
        "second_element = letters[1]  # Indexing starts from 0\n",
        "print(second_element)\n"
      ],
      "metadata": {
        "colab": {
          "base_uri": "https://localhost:8080/"
        },
        "id": "n2jmj5Yn3q05",
        "outputId": "268d5a7b-fc11-44d1-a2d5-ff0dacb50919"
      },
      "execution_count": null,
      "outputs": [
        {
          "output_type": "stream",
          "name": "stdout",
          "text": [
            "b\n"
          ]
        }
      ]
    },
    {
      "cell_type": "markdown",
      "source": [
        "10. You can reverse the list using the reverse() method or slicing.?\n"
      ],
      "metadata": {
        "id": "64bg0fGC35Dq"
      }
    },
    {
      "cell_type": "code",
      "source": [
        "numbers = [10, 20, 30, 40, 50]\n",
        "numbers.reverse()\n",
        "print(numbers)\n"
      ],
      "metadata": {
        "colab": {
          "base_uri": "https://localhost:8080/"
        },
        "id": "6nSv4JNr394L",
        "outputId": "b19bdb97-46b4-45d1-9203-34e64ccc9b7c"
      },
      "execution_count": null,
      "outputs": [
        {
          "output_type": "stream",
          "name": "stdout",
          "text": [
            "[50, 40, 30, 20, 10]\n"
          ]
        }
      ]
    },
    {
      "cell_type": "markdown",
      "source": [
        "11. Write a code to create a tuple with the elements 100, 200, 300 and print it."
      ],
      "metadata": {
        "id": "d_7kLUwU4Ga3"
      }
    },
    {
      "cell_type": "code",
      "source": [
        "# create a tuple\n",
        "my_tuple = (100,200,300)\n",
        "\n",
        "# print result\n",
        "print(my_tuple)\n",
        "\n",
        "# type\n",
        "print(type(my_tuple))"
      ],
      "metadata": {
        "colab": {
          "base_uri": "https://localhost:8080/"
        },
        "id": "dfMbQl4O4sQn",
        "outputId": "fe192ddf-da35-4623-ad35-5ddec5cd6ae5"
      },
      "execution_count": null,
      "outputs": [
        {
          "output_type": "stream",
          "name": "stdout",
          "text": [
            "(100, 200, 300)\n",
            "<class 'tuple'>\n"
          ]
        }
      ]
    },
    {
      "cell_type": "markdown",
      "source": [
        "12. Write a code to access the second-to-last element of the tuple ('red', 'green', 'blue', 'yellow')."
      ],
      "metadata": {
        "id": "bVqdNp095HxU"
      }
    },
    {
      "cell_type": "code",
      "source": [
        "my_tuple = ('red', 'green', 'blue', 'yellow')\n",
        "second_to_last = my_tuple[-2]\n",
        "second_to_last\n"
      ],
      "metadata": {
        "colab": {
          "base_uri": "https://localhost:8080/",
          "height": 35
        },
        "id": "VRDY1ARj5chu",
        "outputId": "f0fc6e07-5b30-492e-a89b-f77b45574819"
      },
      "execution_count": null,
      "outputs": [
        {
          "output_type": "execute_result",
          "data": {
            "text/plain": [
              "'blue'"
            ],
            "application/vnd.google.colaboratory.intrinsic+json": {
              "type": "string"
            }
          },
          "metadata": {},
          "execution_count": 10
        }
      ]
    },
    {
      "cell_type": "markdown",
      "source": [
        "13. . Write a code to find the minimum number in the tuple (10, 20, 5, 15)."
      ],
      "metadata": {
        "id": "WjOua7jlKrqu"
      }
    },
    {
      "cell_type": "code",
      "source": [
        "my_tuple = (10,20,5,15)\n",
        "\n",
        "min_num = min(my_tuple)\n",
        "\n",
        "print(min_num)"
      ],
      "metadata": {
        "colab": {
          "base_uri": "https://localhost:8080/"
        },
        "id": "znGFbkb_K42E",
        "outputId": "70ff75e9-e7d4-4bc9-b42e-62b4b0cb3fba"
      },
      "execution_count": null,
      "outputs": [
        {
          "output_type": "stream",
          "name": "stdout",
          "text": [
            "5\n"
          ]
        }
      ]
    },
    {
      "cell_type": "markdown",
      "source": [
        "14.  Write a code to find the index of the element \"cat\" in the tuple ('dog', 'cat', 'rabbit')."
      ],
      "metadata": {
        "id": "bFiaKuHELIuN"
      }
    },
    {
      "cell_type": "code",
      "source": [
        "my_tuple = ('dog', 'cat', 'rabbit')\n",
        "\n",
        "index = my_tuple.index(\"cat\")\n",
        "\n",
        "print(index)\n"
      ],
      "metadata": {
        "colab": {
          "base_uri": "https://localhost:8080/"
        },
        "id": "0j9tT7okLPS2",
        "outputId": "2fdc0eaf-0701-48b4-d546-a641563c2ce4"
      },
      "execution_count": null,
      "outputs": [
        {
          "output_type": "stream",
          "name": "stdout",
          "text": [
            "1\n"
          ]
        }
      ]
    },
    {
      "cell_type": "markdown",
      "source": [
        "15.  Write a code to create a tuple containing three different fruits and check if \"kiwi\" is in it."
      ],
      "metadata": {
        "id": "vOMlWcp9Lmxd"
      }
    },
    {
      "cell_type": "code",
      "source": [
        "my_tuple = (\"apple\",\"kiwi\",\"banana\")\n",
        "\n",
        "if \"kiwi\" in my_tuple:\n",
        "  print(\"kiwi is in the tuple\")\n",
        "else:\n",
        "  print(\"kiwi is not in the tuple\")"
      ],
      "metadata": {
        "id": "aFSUNKRILvHH"
      },
      "execution_count": null,
      "outputs": []
    },
    {
      "cell_type": "markdown",
      "source": [
        "16.  Write a code to create a set with the elements 'a', 'b', 'c' and print it"
      ],
      "metadata": {
        "id": "MJLcT2u4QkTF"
      }
    },
    {
      "cell_type": "code",
      "source": [
        "my_set = {'a', 'b', 'c'}\n",
        "print(my_set)\n"
      ],
      "metadata": {
        "colab": {
          "base_uri": "https://localhost:8080/"
        },
        "id": "u5lVL_VZR6jT",
        "outputId": "dde9938e-964f-4201-8cca-a39a33fe232d"
      },
      "execution_count": 1,
      "outputs": [
        {
          "output_type": "stream",
          "name": "stdout",
          "text": [
            "{'c', 'b', 'a'}\n"
          ]
        }
      ]
    },
    {
      "cell_type": "markdown",
      "source": [
        "17. Write a code to clear all elements from the set {1, 2, 3, 4, 5}."
      ],
      "metadata": {
        "id": "4dGeCGSFSArO"
      }
    },
    {
      "cell_type": "code",
      "source": [
        "my_set = {1, 2, 3, 4, 5}\n",
        "my_set.clear()  # Removes all elements from the set\n",
        "print(my_set)   # Output: set()\n"
      ],
      "metadata": {
        "colab": {
          "base_uri": "https://localhost:8080/"
        },
        "id": "ZLqlpGdRSF4C",
        "outputId": "3898dc94-2a7f-4e9b-9995-641f5f75b487"
      },
      "execution_count": 2,
      "outputs": [
        {
          "output_type": "stream",
          "name": "stdout",
          "text": [
            "set()\n"
          ]
        }
      ]
    },
    {
      "cell_type": "markdown",
      "source": [
        "18.. Write a code to remove the element 4 from the set {1, 2, 3, 4}."
      ],
      "metadata": {
        "id": "bv8cHv-sSK6F"
      }
    },
    {
      "cell_type": "code",
      "source": [
        "my_set = {1, 2, 3, 4}\n",
        "my_set.remove(4)  # Removes element 4 from the set\n",
        "print(my_set)  # Output: {1, 2, 3}\n"
      ],
      "metadata": {
        "colab": {
          "base_uri": "https://localhost:8080/"
        },
        "id": "6Xy6CHIbSQSF",
        "outputId": "158e2200-a35b-43f8-fe36-5277ff699d47"
      },
      "execution_count": 3,
      "outputs": [
        {
          "output_type": "stream",
          "name": "stdout",
          "text": [
            "{1, 2, 3}\n"
          ]
        }
      ]
    },
    {
      "cell_type": "markdown",
      "source": [
        "19.  Write a code to find the union of two sets {1, 2, 3} and {3, 4, 5}."
      ],
      "metadata": {
        "id": "k7--r5f0SRla"
      }
    },
    {
      "cell_type": "code",
      "source": [
        "set1 = {1, 2, 3}\n",
        "set2 = {3, 4, 5}\n",
        "\n",
        "# Using union() method\n",
        "union_set = set1.union(set2)\n",
        "print(union_set)  # Output: {1, 2, 3, 4, 5}\n",
        "\n",
        "# Using | operator\n",
        "union_set_alt = set1 | set2\n",
        "print(union_set_alt)  # Output: {1, 2, 3, 4, 5}\n"
      ],
      "metadata": {
        "colab": {
          "base_uri": "https://localhost:8080/"
        },
        "id": "iOsc7wf1SZwS",
        "outputId": "4b9d1e56-89b0-4ecb-b389-380f3eb22859"
      },
      "execution_count": 4,
      "outputs": [
        {
          "output_type": "stream",
          "name": "stdout",
          "text": [
            "{1, 2, 3, 4, 5}\n",
            "{1, 2, 3, 4, 5}\n"
          ]
        }
      ]
    },
    {
      "cell_type": "markdown",
      "source": [
        "20. . Write a code to find the intersection of two sets {1, 2, 3} and {2, 3, 4}."
      ],
      "metadata": {
        "id": "eRZyYygwSeSK"
      }
    },
    {
      "cell_type": "code",
      "source": [
        "set1 = {1, 2, 3}\n",
        "set2 = {2, 3, 4}\n",
        "\n",
        "# Using intersection() method\n",
        "intersection_set = set1.intersection(set2)\n",
        "print(intersection_set)  # Output: {2, 3}\n",
        "\n",
        "# Using & operator\n",
        "intersection_set_alt = set1 & set2\n",
        "print(intersection_set_alt)  # Output: {2, 3}\n"
      ],
      "metadata": {
        "colab": {
          "base_uri": "https://localhost:8080/"
        },
        "id": "t4IzXKOoSiOL",
        "outputId": "da860da1-1a61-441e-f746-754cf0eca443"
      },
      "execution_count": 5,
      "outputs": [
        {
          "output_type": "stream",
          "name": "stdout",
          "text": [
            "{2, 3}\n",
            "{2, 3}\n"
          ]
        }
      ]
    },
    {
      "cell_type": "markdown",
      "source": [
        "21. Write a code to create a dictionary with the keys \"name\", \"age\", and \"city\", and print it."
      ],
      "metadata": {
        "id": "POkcOTauSs1C"
      }
    },
    {
      "cell_type": "code",
      "source": [
        "my_dict = {\n",
        "    \"name\": \"Alice\",\n",
        "    \"age\": 25,\n",
        "    \"city\": \"New York\"\n",
        "}\n",
        "\n",
        "print(my_dict)\n"
      ],
      "metadata": {
        "colab": {
          "base_uri": "https://localhost:8080/"
        },
        "id": "btsJklX1SwUS",
        "outputId": "e5ee227a-0884-4aef-a4ec-0c3eec97712e"
      },
      "execution_count": 6,
      "outputs": [
        {
          "output_type": "stream",
          "name": "stdout",
          "text": [
            "{'name': 'Alice', 'age': 25, 'city': 'New York'}\n"
          ]
        }
      ]
    },
    {
      "cell_type": "markdown",
      "source": [
        "22. Write a code to add a new key-value pair \"country\": \"USA\" to the dictionary {'name': 'John', 'age': 25}."
      ],
      "metadata": {
        "id": "gvqdLufDS3z-"
      }
    },
    {
      "cell_type": "code",
      "source": [
        "my_dict = {'name': 'John', 'age': 25}\n",
        "\n",
        "# Adding a new key-value pair\n",
        "my_dict['country'] = 'USA'\n",
        "\n",
        "print(my_dict)\n"
      ],
      "metadata": {
        "colab": {
          "base_uri": "https://localhost:8080/"
        },
        "id": "w0he5MmtS9QT",
        "outputId": "debaf914-7ecb-4265-c849-ccb9cdd80f9a"
      },
      "execution_count": 7,
      "outputs": [
        {
          "output_type": "stream",
          "name": "stdout",
          "text": [
            "{'name': 'John', 'age': 25, 'country': 'USA'}\n"
          ]
        }
      ]
    },
    {
      "cell_type": "markdown",
      "source": [
        "23. Write a code to access the value associated with the key \"name\" in the dictionary {'name': 'Alice', 'age': 30}."
      ],
      "metadata": {
        "id": "jwzHHI1iS_Aw"
      }
    },
    {
      "cell_type": "code",
      "source": [
        "my_dict = {'name': 'Alice', 'age': 30}\n",
        "\n",
        "# Using square brackets\n",
        "name_value = my_dict['name']\n",
        "print(name_value)  # Output: Alice\n",
        "\n",
        "# Using get() method (avoids KeyError if key doesn't exist)\n",
        "name_value_alt = my_dict.get('name')\n",
        "print(name_value_alt)  # Output: Alice\n"
      ],
      "metadata": {
        "colab": {
          "base_uri": "https://localhost:8080/"
        },
        "id": "pbj73IafTBie",
        "outputId": "c9d53965-3f1d-4eff-abd0-4c3f1b18398c"
      },
      "execution_count": 8,
      "outputs": [
        {
          "output_type": "stream",
          "name": "stdout",
          "text": [
            "Alice\n",
            "Alice\n"
          ]
        }
      ]
    },
    {
      "cell_type": "markdown",
      "source": [
        "24. Write a code to remove the key \"age\" from the dictionary {'name': 'Bob', 'age': 22, 'city': 'New York'}."
      ],
      "metadata": {
        "id": "ZxnlgtHNTFlG"
      }
    },
    {
      "cell_type": "code",
      "source": [
        "my_dict = {'name': 'Bob', 'age': 22, 'city': 'New York'}\n",
        "\n",
        "# Using pop() method (returns the removed value)\n",
        "removed_value = my_dict.pop('age')\n",
        "print(my_dict)  # Output: {'name': 'Bob', 'city': 'New York'}"
      ],
      "metadata": {
        "colab": {
          "base_uri": "https://localhost:8080/"
        },
        "id": "X1IZc0LNTIwT",
        "outputId": "858359cf-0d9b-41ce-b52e-517ac3773235"
      },
      "execution_count": 9,
      "outputs": [
        {
          "output_type": "stream",
          "name": "stdout",
          "text": [
            "{'name': 'Bob', 'city': 'New York'}\n"
          ]
        }
      ]
    },
    {
      "cell_type": "markdown",
      "source": [
        "25.  Write a code to check if the key \"city\" exists in the dictionary {'name': 'Alice', 'city': 'Paris'}"
      ],
      "metadata": {
        "id": "bea6ei3aTTET"
      }
    },
    {
      "cell_type": "code",
      "source": [
        "my_dict = {'name': 'Alice', 'city': 'Paris'}\n",
        "\n",
        "# Checking if 'city' exists in the dictionary\n",
        "if 'city' in my_dict:\n",
        "    print(\"Key 'city' exists in the dictionary.\")\n",
        "else:\n",
        "    print(\"Key 'city' does not exist in the dictionary.\")\n"
      ],
      "metadata": {
        "colab": {
          "base_uri": "https://localhost:8080/"
        },
        "id": "k4NOwsH0TXGi",
        "outputId": "4a3323c3-a993-4341-a488-384fed8e1209"
      },
      "execution_count": 10,
      "outputs": [
        {
          "output_type": "stream",
          "name": "stdout",
          "text": [
            "Key 'city' exists in the dictionary.\n"
          ]
        }
      ]
    },
    {
      "cell_type": "markdown",
      "source": [
        "26.  Write a code to create a list, a tuple, and a dictionary, and print them all"
      ],
      "metadata": {
        "id": "RcuE2MgmTYRw"
      }
    },
    {
      "cell_type": "code",
      "source": [
        "# Creating a list\n",
        "my_list = [1, 2, 3, 4, 5]\n",
        "\n",
        "# Creating a tuple\n",
        "my_tuple = ('apple', 'banana', 'cherry')\n",
        "\n",
        "# Creating a dictionary\n",
        "my_dict = {'name': 'Alice', 'age': 25, 'city': 'New York'}\n",
        "\n",
        "# Printing all three\n",
        "print(\"List:\", my_list)\n",
        "print(\"Tuple:\", my_tuple)\n",
        "print(\"Dictionary:\", my_dict)\n"
      ],
      "metadata": {
        "colab": {
          "base_uri": "https://localhost:8080/"
        },
        "id": "Q0dEmtOqTfNh",
        "outputId": "1b6b7959-7728-4ebb-c66b-bb3f4a5a559d"
      },
      "execution_count": 11,
      "outputs": [
        {
          "output_type": "stream",
          "name": "stdout",
          "text": [
            "List: [1, 2, 3, 4, 5]\n",
            "Tuple: ('apple', 'banana', 'cherry')\n",
            "Dictionary: {'name': 'Alice', 'age': 25, 'city': 'New York'}\n"
          ]
        }
      ]
    },
    {
      "cell_type": "markdown",
      "source": [
        "27.  Write a code to create a list of 5 random numbers between 1 and 100, sort it in ascending order, and print the  result.(replaced)"
      ],
      "metadata": {
        "id": "4XpCr535Tgab"
      }
    },
    {
      "cell_type": "code",
      "source": [
        "# Manually creating a list of 5 numbers\n",
        "numbers = [42, 7, 89, 23, 56]\n",
        "\n",
        "# Sorting the list in ascending order\n",
        "numbers.sort()\n",
        "\n",
        "# Printing the sorted list\n",
        "print(\"Sorted List:\", numbers)\n"
      ],
      "metadata": {
        "colab": {
          "base_uri": "https://localhost:8080/"
        },
        "id": "TJbBKiEvT032",
        "outputId": "9530885b-1a3a-436e-da2a-2d1f58039fb3"
      },
      "execution_count": 12,
      "outputs": [
        {
          "output_type": "stream",
          "name": "stdout",
          "text": [
            "Sorted List: [7, 23, 42, 56, 89]\n"
          ]
        }
      ]
    },
    {
      "cell_type": "markdown",
      "source": [
        "28.  Write a code to create a list with strings and print the element at the third index."
      ],
      "metadata": {
        "id": "v2uzWhIIT2Oa"
      }
    },
    {
      "cell_type": "code",
      "source": [
        "# Creating a list with strings\n",
        "my_list = [\"apple\", \"banana\", \"cherry\", \"orange\", \"grape\"]\n",
        "\n",
        "# Printing the element at the third index\n",
        "print(\"Element at index 3:\", my_list[3])\n"
      ],
      "metadata": {
        "colab": {
          "base_uri": "https://localhost:8080/"
        },
        "id": "2z9R_DrmT9Hc",
        "outputId": "7307a394-162a-410d-85a2-d3c921c51682"
      },
      "execution_count": 13,
      "outputs": [
        {
          "output_type": "stream",
          "name": "stdout",
          "text": [
            "Element at index 3: orange\n"
          ]
        }
      ]
    },
    {
      "cell_type": "markdown",
      "source": [
        "29.  Write a code to combine two dictionaries into one and print the result"
      ],
      "metadata": {
        "id": "-rhgwplvT-gr"
      }
    },
    {
      "cell_type": "code",
      "source": [
        "# Creating two dictionaries\n",
        "dict1 = {'name': 'Alice', 'age': 25}\n",
        "dict2 = {'city': 'New York', 'country': 'USA'}\n",
        "\n",
        "# Method 1: Using update()\n",
        "combined_dict = dict1.copy()  # Copying dict1 to avoid modifying the original\n",
        "combined_dict.update(dict2)\n",
        "print(\"Combined Dictionary (using update):\", combined_dict)"
      ],
      "metadata": {
        "colab": {
          "base_uri": "https://localhost:8080/"
        },
        "id": "0GgKQPcQUBAy",
        "outputId": "b827e325-94b2-489b-968d-acf204e881cf"
      },
      "execution_count": 14,
      "outputs": [
        {
          "output_type": "stream",
          "name": "stdout",
          "text": [
            "Combined Dictionary (using update): {'name': 'Alice', 'age': 25, 'city': 'New York', 'country': 'USA'}\n"
          ]
        }
      ]
    },
    {
      "cell_type": "markdown",
      "source": [
        "30. 0. Write a code to convert a list of strings into a set"
      ],
      "metadata": {
        "id": "X9iPsGn5UZZF"
      }
    },
    {
      "cell_type": "code",
      "source": [
        "# Creating a list of strings\n",
        "my_list = [\"apple\", \"banana\", \"cherry\", \"apple\", \"banana\"]\n",
        "\n",
        "# Converting the list into a set\n",
        "my_set = set(my_list)\n",
        "\n",
        "# Printing the result\n",
        "print(\"Set:\", my_set)\n"
      ],
      "metadata": {
        "colab": {
          "base_uri": "https://localhost:8080/"
        },
        "id": "wV_Hy53NUdWC",
        "outputId": "184d85c3-9986-4807-f700-ee36513eacc2"
      },
      "execution_count": 15,
      "outputs": [
        {
          "output_type": "stream",
          "name": "stdout",
          "text": [
            "Set: {'cherry', 'banana', 'apple'}\n"
          ]
        }
      ]
    }
  ]
}